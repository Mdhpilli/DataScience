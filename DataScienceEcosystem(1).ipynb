{
 "cells": [
  {
   "cell_type": "markdown",
   "id": "f2453559-661e-4e13-9e75-c5db33a27e9f",
   "metadata": {},
   "source": [
    "<h1>\n",
    "Data Science Tools and Ecosystem\n",
    "</h1>"
   ]
  },
  {
   "cell_type": "markdown",
   "id": "ddf7cd21-2e11-45a8-8090-93e6fc7dc571",
   "metadata": {},
   "source": [
    "This notebook provides an overview of essential data science tools and the ecosystem"
   ]
  },
  {
   "cell_type": "markdown",
   "id": "7d899328-0ed2-4f43-85c9-45d1e03ce205",
   "metadata": {
    "tags": []
   },
   "source": [
    "**Objectives**\n",
    "\n",
    "- List of popular Languages used in Data Science.\n",
    "- Overview on some of the most commonly used libraries.\n",
    "- Tools used for Data Science.\n",
    "- Introduction to arithmetic expressions."
   ]
  },
  {
   "cell_type": "markdown",
   "id": "731ac327-7589-4270-b300-91b3439cb4bc",
   "metadata": {
    "tags": []
   },
   "source": [
    "some popular languages that Data Scientists use are:\n",
    "\n",
    "1. Python\n",
    "2. R\n",
    "3. SQL\n",
    "4. Scala\n"
   ]
  },
  {
   "cell_type": "markdown",
   "id": "905fd859-1696-484e-bd6d-ace71559338f",
   "metadata": {},
   "source": [
    "Some of the most commonly used Data Science libraries are:\n",
    "\n",
    "1. Numpy\n",
    "2. Pandas\n",
    "3. Matplotlib\n",
    "4. SciPy\n",
    "5. Scikit-learn"
   ]
  },
  {
   "cell_type": "markdown",
   "id": "202100d8-78ef-410a-a2bc-168063c69a29",
   "metadata": {},
   "source": [
    " | Data Science Tools |\n",
    "|---------------------|\n",
    "| Jupyter Notebook    |\n",
    "|  R studio           |\n",
    "| Apache Spark        |"
   ]
  },
  {
   "cell_type": "markdown",
   "id": "247d6ed4-dce6-4790-ac43-99af30f769c3",
   "metadata": {},
   "source": [
    "<H3>Below are few examples of evaluating arithmetic expressions in Python.</H3>"
   ]
  },
  {
   "cell_type": "code",
   "execution_count": 8,
   "id": "86c7cfa5-2a3a-4ba5-b22e-1f6dcdd76903",
   "metadata": {
    "tags": []
   },
   "outputs": [
    {
     "name": "stdout",
     "output_type": "stream",
     "text": [
      "17\n"
     ]
    }
   ],
   "source": [
    "# This is a simple arithmetic expression to multiply then add integers\n",
    "result = (3 * 4) + 5\n",
    "print(result)   "
   ]
  },
  {
   "cell_type": "code",
   "execution_count": 9,
   "id": "6af59a64-b92b-4d9c-9f29-76f8b6233d3b",
   "metadata": {
    "tags": []
   },
   "outputs": [
    {
     "name": "stdout",
     "output_type": "stream",
     "text": [
      "3.3333333333333335\n"
     ]
    }
   ],
   "source": [
    "# This will convert 200 minutes to hours by dividing by 60\n",
    "minutes = 200\n",
    "hours = minutes / 60\n",
    "print(hours)   \n"
   ]
  },
  {
   "cell_type": "markdown",
   "id": "5ff8819b-609b-4565-8a8f-f1bbd18a9fb5",
   "metadata": {},
   "source": [
    "<H2>Author</H2>\n",
    "\n",
    "Madhuri Pilli"
   ]
  },
  {
   "cell_type": "code",
   "execution_count": null,
   "id": "6aafadca-71f5-4947-9a87-ad25af59d466",
   "metadata": {},
   "outputs": [],
   "source": []
  }
 ],
 "metadata": {
  "kernelspec": {
   "display_name": "Python",
   "language": "python",
   "name": "conda-env-python-py"
  },
  "language_info": {
   "codemirror_mode": {
    "name": "ipython",
    "version": 3
   },
   "file_extension": ".py",
   "mimetype": "text/x-python",
   "name": "python",
   "nbconvert_exporter": "python",
   "pygments_lexer": "ipython3",
   "version": "3.7.12"
  }
 },
 "nbformat": 4,
 "nbformat_minor": 5
}
